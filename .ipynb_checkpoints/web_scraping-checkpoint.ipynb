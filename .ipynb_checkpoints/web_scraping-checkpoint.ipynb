{
 "cells": [
  {
   "cell_type": "code",
   "execution_count": null,
   "id": "cd5101c3-465c-4559-935c-e5712b404db6",
   "metadata": {
    "jupyter": {
     "source_hidden": true
    }
   },
   "outputs": [],
   "source": [
    "df = pd.DataFrame([[0,0,0,0,0,0]], columns=['nid','title','department','staff','time','text'])\n",
    "df = df.drop(0)\n",
    "\n",
    "for i in range(10000, 10200):\n",
    "    ID = str(i)\n",
    "    url = 'https://www.ahs.nccu.edu.tw/ischool/public/news_view/show.php?nid=' + ID\n",
    "    html = rq.get(url)\n",
    "    sp = soup(html.text, 'html.parser')\n",
    "    \n",
    "    title = sp.select('#title h4')\n",
    "    text = sp.select('#content p span')\n",
    "    info = sp.select('#info table tbody tr td span')\n",
    "    \n",
    "    title_temp = ''\n",
    "    for t in title:\n",
    "        title_temp += t.text\n",
    "\n",
    "    department_temp = ''\n",
    "    staff_temp = ''\n",
    "    time_temp = ''\n",
    "    count = -1\n",
    "\n",
    "    for t in info:\n",
    "        count += 1\n",
    "        if count == (0 or 2 or 4):\n",
    "            continue\n",
    "        elif count == 1:\n",
    "            department_temp = t.text\n",
    "        elif count == 3:\n",
    "            staff_temp = t.text\n",
    "        elif count == 5:\n",
    "            time_temp = t.text\n",
    "        else:\n",
    "            continue\n",
    "    \n",
    "    text_temp = ''\n",
    "    for t in text:\n",
    "        text_temp += t.text\n",
    "        \n",
    "    df = df.append(pd.DataFrame([[ID,title_temp,department_temp,staff_temp,time_temp,text_temp]],columns=['nid','title','department','staff','tim"
   ]
  },
  {
   "cell_type": "code",
   "execution_count": 1,
   "id": "171cbed5-64b8-4e02-a155-cd899e4f5583",
   "metadata": {},
   "outputs": [],
   "source": [
    "import requests as rq\n",
    "import pandas as pd\n",
    "from bs4 import BeautifulSoup as soup\n",
    "from selenium import webdriver\n",
    "from selenium.webdriver.common.by import By\n",
    "from lxml import etree\n",
    "import time"
   ]
  },
  {
   "cell_type": "code",
   "execution_count": 2,
   "id": "cc954ca9-2635-4f33-a69d-85a6acc60995",
   "metadata": {},
   "outputs": [
    {
     "name": "stdin",
     "output_type": "stream",
     "text": [
      "TEAM: log-angeles-angels\n",
      "YEAR: 2019\n"
     ]
    }
   ],
   "source": [
    "team = input(\"TEAM:\")\n",
    "year = input(\"YEAR:\")"
   ]
  },
  {
   "cell_type": "markdown",
   "id": "4af17fae-360b-4879-8b17-75e8b11dfd17",
   "metadata": {},
   "source": [
    "los-angeles-angels<br>\n",
    "2019"
   ]
  },
  {
   "cell_type": "code",
   "execution_count": 3,
   "id": "d22f2832-91b3-4be1-a3bc-23f214c68c38",
   "metadata": {},
   "outputs": [
    {
     "name": "stderr",
     "output_type": "stream",
     "text": [
      "C:\\Users\\user\\AppData\\Local\\Temp\\ipykernel_20020\\261929086.py:1: DeprecationWarning: executable_path has been deprecated, please pass in a Service object\n",
      "  driver = webdriver.Chrome('/programing/swiftx/chromedriver-win64/chromedriver.exe')\n"
     ]
    }
   ],
   "source": [
    "driver = webdriver.Chrome('/programing/swiftx/chromedriver-win64/chromedriver.exe')\n",
    "url = f'https://www.mlb.com/stats/{team}/{year}?playerPool=ALL'\n",
    "html = driver.get('https://www.mlb.com/stats/los-angeles-angels/2019?playerPool=ALL')\n",
    "sp = soup(driver.page_source, 'html.parser')"
   ]
  },
  {
   "cell_type": "code",
   "execution_count": 4,
   "id": "eee0b259-c516-41f9-af1f-1add0e2a9328",
   "metadata": {},
   "outputs": [],
   "source": [
    "# get player index\n",
    "index_list = []\n",
    "index = sp.find_all(class_ = 'index-3cdMSKi7')\n",
    "for i in range(0, len(index), 2):\n",
    "    index_list.append(index[i].text)"
   ]
  },
  {
   "cell_type": "code",
   "execution_count": 5,
   "id": "8fe3a32b-ca2d-4a2a-bfed-502722c905d0",
   "metadata": {},
   "outputs": [],
   "source": [
    "# get player name\n",
    "player_list = []\n",
    "player = sp.find_all(class_ = 'full-3fV3c9pF')\n",
    "for i in range(0, len(player), 2):\n",
    "    player_list.append(player[i].text + ' ' + player[i+1].text)"
   ]
  },
  {
   "cell_type": "code",
   "execution_count": 6,
   "id": "134cf2f0-79f7-4b6b-8c7a-15091909560a",
   "metadata": {},
   "outputs": [],
   "source": [
    "# get player's position\n",
    "position_list = []\n",
    "position = sp.find_all(class_ = 'position-28TbwVOg')\n",
    "for i in position:\n",
    "    position_list.append(i.text)"
   ]
  },
  {
   "cell_type": "code",
   "execution_count": 7,
   "id": "a6776745-2449-44d0-8518-780fb4645a53",
   "metadata": {},
   "outputs": [],
   "source": [
    "# click standard button\n",
    "time.sleep(3)\n",
    "driver.find_element('xpath', '//*[@id=\"stats-app-root\"]/section/section/div[1]/div[2]/div/div[1]/div/div[1]/button').click()\n",
    "driver.find_element('xpath', '//*[@id=\"stats-app-root\"]/section/section/div[1]/div[2]/div/div[1]/div/div[1]/button').click()\n",
    "time.sleep(3)"
   ]
  },
  {
   "cell_type": "code",
   "execution_count": 8,
   "id": "3c81e738-20a0-4c63-ae6f-20156bc06c41",
   "metadata": {
    "scrolled": true
   },
   "outputs": [
    {
     "name": "stdout",
     "output_type": "stream",
     "text": [
      "['TEAM', 'G', 'AB', 'R', 'H', '2B', '3B', 'HR', 'RBI', 'BB', 'SO', 'SB', 'CS', 'AVG', 'OBP', 'SLG']\n",
      "['LAA', '12', '41', '6', '16', '3', '0', '3', '12', '3', '8', '0', '0', '.390', '.500', '.683', '1.183']\n",
      "['LAA', '134', '470', '110', '137', '27', '2', '45', '104', '110', '120', '11', '2', '.291', '.438', '.645', '1.083']\n",
      "['LAA', '106', '384', '51', '110', '20', '5', '18', '62', '33', '110', '12', '3', '.286', '.343', '.505', '.848']\n",
      "['LAA', '80', '292', '49', '86', '8', '0', '16', '44', '20', '28', '0', '0', '.295', '.346', '.486', '.832']\n",
      "['LAA', '136', '413', '65', '108', '29', '3', '17', '47', '38', '129', '7', '3', '.262', '.326', '.470', '.796']\n",
      "['LAA', '152', '552', '92', '128', '29', '1', '33', '74', '70', '162', '4', '1', '.232', '.325', '.467', '.792']\n",
      "['LAA', '131', '491', '55', '120', '22', '0', '23', '93', '43', '68', '3', '0', '.244', '.305', '.430', '.735']\n",
      "['LAA', '154', '596', '83', '173', '30', '4', '6', '49', '55', '64', '8', '3', '.290', '.350', '.384', '.734']\n",
      "['LAA', '63', '219', '34', '47', '8', '0', '12', '40', '32', '78', '1', '1', '.215', '.309', '.416', '.725']\n",
      "['LAA', '53', '147', '17', '31', '7', '0', '8', '23', '17', '52', '0', '0', '.211', '.293', '.422', '.715']\n",
      "['LAA', '67', '191', '21', '48', '12', '0', '5', '20', '16', '37', '2', '0', '.251', '.318', '.393', '.711']\n",
      "['LAA', '28', '69', '11', '16', '3', '0', '2', '7', '8', '18', '0', '0', '.232', '.346', '.362', '.708']\n",
      "['LAA', '108', '357', '44', '85', '18', '3', '7', '33', '40', '93', '2', '5', '.238', '.321', '.364', '.685']\n",
      "['LAA', '74', '240', '28', '58', '8', '1', '7', '30', '21', '39', '0', '0', '.242', '.310', '.371', '.681']\n",
      "['LAA', '103', '398', '47', '105', '19', '0', '7', '40', '24', '37', '10', '2', '.264', '.309', '.364', '.673']\n",
      "['LAA', '38', '3', '0', '1', '0', '0', '0', '0', '0', '1', '0', '0', '.333', '.333', '.333', '.666']\n",
      "['LAA', '20', '42', '4', '8', '3', '0', '1', '2', '6', '23', '0', '0', '.190', '.292', '.333', '.625']\n",
      "['LAA', '52', '151', '18', '26', '5', '0', '8', '26', '17', '52', '0', '0', '.172', '.259', '.364', '.623']\n",
      "['LAA', '34', '79', '6', '16', '5', '1', '1', '5', '6', '35', '0', '0', '.203', '.276', '.329', '.605']\n",
      "['LAA', '18', '36', '7', '5', '1', '1', '0', '3', '5', '19', '2', '0', '.139', '.304', '.222', '.526']\n",
      "['LAA', '31', '83', '5', '16', '5', '0', '0', '5', '5', '15', '0', '0', '.193', '.239', '.253', '.492']\n",
      "['LAA', '9', '25', '1', '4', '3', '0', '0', '1', '1', '7', '1', '0', '.160', '.192', '.280', '.472']\n",
      "['LAA', '15', '2', '0', '0', '0', '0', '0', '0', '1', '1', '0', '0', '.000', '.333', '.000', '.333']\n",
      "['LAA', '38', '97', '4', '12', '2', '0', '0', '7', '5', '16', '0', '0', '.124', '.178', '.144', '.322']\n",
      "['LAA', '22', '49', '2', '5', '0', '0', '1', '3', '1', '19', '0', '0', '.102', '.120', '.163', '.283']\n"
     ]
    }
   ],
   "source": [
    "# get standard data\n",
    "count = 0\n",
    "temp = []\n",
    "sp = soup(driver.page_source, 'html.parser')\n",
    "tt = sp.select('#stats-app-root tr td')\n",
    "ti = sp.find_all(class_ = 'bui-text cellheader bui-text')\n",
    "for i in range(0, len(ti), 2):\n",
    "    temp.append(ti[i].text)\n",
    "print(temp[1:])\n",
    "for i in range(0, len(tt), 17):\n",
    "    temp = []\n",
    "    for j in range(i, i+17):\n",
    "        temp.append(tt[j].text)\n",
    "    print(temp)\n",
    "    count += 1"
   ]
  },
  {
   "cell_type": "code",
   "execution_count": 9,
   "id": "0f7592e5-181e-478e-9497-acc7f73aa71e",
   "metadata": {},
   "outputs": [],
   "source": [
    "# click expanded button\n",
    "time.sleep(3)\n",
    "driver.find_element('xpath', '//*[@id=\"stats-app-root\"]/section/section/div[1]/div[2]/div/div[1]/div/div[2]/button').click()\n",
    "driver.find_element('xpath', '//*[@id=\"stats-app-root\"]/section/section/div[1]/div[2]/div/div[1]/div/div[2]/button').click()\n",
    "time.sleep(3)"
   ]
  },
  {
   "cell_type": "code",
   "execution_count": 10,
   "id": "0b1ad1af-5c53-4fa2-90b3-e81b8555fd8c",
   "metadata": {
    "scrolled": true
   },
   "outputs": [
    {
     "name": "stdout",
     "output_type": "stream",
     "text": [
      "['TEAM', 'G', 'AB', 'R', 'H', '2B', '3B', 'HR', 'RBI', 'BB', 'SO', 'SB', 'CS', 'AVG', 'OBP', 'SLG']\n",
      "['LAA', '12', '41', '6', '16', '3', '0', '3', '12', '3', '8', '0', '0', '.390', '.500', '.683']\n",
      "['1.183', 'LAA', '134', '470', '110', '137', '27', '2', '45', '104', '110', '120', '11', '2', '.291', '.438']\n",
      "['.645', '1.083', 'LAA', '106', '384', '51', '110', '20', '5', '18', '62', '33', '110', '12', '3', '.286']\n",
      "['.343', '.505', '.848', 'LAA', '80', '292', '49', '86', '8', '0', '16', '44', '20', '28', '0', '0']\n",
      "['.295', '.346', '.486', '.832', 'LAA', '136', '413', '65', '108', '29', '3', '17', '47', '38', '129', '7']\n",
      "['3', '.262', '.326', '.470', '.796', 'LAA', '152', '552', '92', '128', '29', '1', '33', '74', '70', '162']\n",
      "['4', '1', '.232', '.325', '.467', '.792', 'LAA', '131', '491', '55', '120', '22', '0', '23', '93', '43']\n",
      "['68', '3', '0', '.244', '.305', '.430', '.735', 'LAA', '154', '596', '83', '173', '30', '4', '6', '49']\n",
      "['55', '64', '8', '3', '.290', '.350', '.384', '.734', 'LAA', '63', '219', '34', '47', '8', '0', '12']\n",
      "['40', '32', '78', '1', '1', '.215', '.309', '.416', '.725', 'LAA', '53', '147', '17', '31', '7', '0']\n",
      "['8', '23', '17', '52', '0', '0', '.211', '.293', '.422', '.715', 'LAA', '67', '191', '21', '48', '12']\n",
      "['0', '5', '20', '16', '37', '2', '0', '.251', '.318', '.393', '.711', 'LAA', '28', '69', '11', '16']\n",
      "['3', '0', '2', '7', '8', '18', '0', '0', '.232', '.346', '.362', '.708', 'LAA', '108', '357', '44']\n",
      "['85', '18', '3', '7', '33', '40', '93', '2', '5', '.238', '.321', '.364', '.685', 'LAA', '74', '240']\n",
      "['28', '58', '8', '1', '7', '30', '21', '39', '0', '0', '.242', '.310', '.371', '.681', 'LAA', '103']\n",
      "['398', '47', '105', '19', '0', '7', '40', '24', '37', '10', '2', '.264', '.309', '.364', '.673', 'LAA']\n",
      "['38', '3', '0', '1', '0', '0', '0', '0', '0', '1', '0', '0', '.333', '.333', '.333', '.666']\n",
      "['LAA', '20', '42', '4', '8', '3', '0', '1', '2', '6', '23', '0', '0', '.190', '.292', '.333']\n",
      "['.625', 'LAA', '52', '151', '18', '26', '5', '0', '8', '26', '17', '52', '0', '0', '.172', '.259']\n",
      "['.364', '.623', 'LAA', '34', '79', '6', '16', '5', '1', '1', '5', '6', '35', '0', '0', '.203']\n",
      "['.276', '.329', '.605', 'LAA', '18', '36', '7', '5', '1', '1', '0', '3', '5', '19', '2', '0']\n",
      "['.139', '.304', '.222', '.526', 'LAA', '31', '83', '5', '16', '5', '0', '0', '5', '5', '15', '0']\n",
      "['0', '.193', '.239', '.253', '.492', 'LAA', '9', '25', '1', '4', '3', '0', '0', '1', '1', '7']\n",
      "['1', '0', '.160', '.192', '.280', '.472', 'LAA', '15', '2', '0', '0', '0', '0', '0', '0', '1']\n",
      "['1', '0', '0', '.000', '.333', '.000', '.333', 'LAA', '38', '97', '4', '12', '2', '0', '0', '7']\n",
      "['5', '16', '0', '0', '.124', '.178', '.144', '.322', 'LAA', '22', '49', '2', '5', '0', '0', '1']\n"
     ]
    },
    {
     "ename": "IndexError",
     "evalue": "list index out of range",
     "output_type": "error",
     "traceback": [
      "\u001b[1;31m---------------------------------------------------------------------------\u001b[0m",
      "\u001b[1;31mIndexError\u001b[0m                                Traceback (most recent call last)",
      "Input \u001b[1;32mIn [10]\u001b[0m, in \u001b[0;36m<cell line: 9>\u001b[1;34m()\u001b[0m\n\u001b[0;32m     10\u001b[0m temp \u001b[38;5;241m=\u001b[39m []\n\u001b[0;32m     11\u001b[0m \u001b[38;5;28;01mfor\u001b[39;00m j \u001b[38;5;129;01min\u001b[39;00m \u001b[38;5;28mrange\u001b[39m(i, i\u001b[38;5;241m+\u001b[39m\u001b[38;5;241m16\u001b[39m):\n\u001b[1;32m---> 12\u001b[0m     temp\u001b[38;5;241m.\u001b[39mappend(\u001b[43mtt\u001b[49m\u001b[43m[\u001b[49m\u001b[43mj\u001b[49m\u001b[43m]\u001b[49m\u001b[38;5;241m.\u001b[39mtext)\n\u001b[0;32m     13\u001b[0m \u001b[38;5;28mprint\u001b[39m(temp)\n\u001b[0;32m     14\u001b[0m count \u001b[38;5;241m+\u001b[39m\u001b[38;5;241m=\u001b[39m \u001b[38;5;241m1\u001b[39m\n",
      "\u001b[1;31mIndexError\u001b[0m: list index out of range"
     ]
    }
   ],
   "source": [
    "# get expanded data\n",
    "count = 0\n",
    "temp = []\n",
    "sp = soup(driver.page_source, 'html.parser')\n",
    "tt = sp.select('#stats-app-root tr td')\n",
    "ti = sp.find_all(class_ = 'bui-text cellheader bui-text')\n",
    "for i in range(0, len(ti), 2):\n",
    "    temp.append(ti[i].text)\n",
    "print(temp[1:])\n",
    "for i in range(0, len(tt), 16):\n",
    "    temp = []\n",
    "    for j in range(i, i+16):\n",
    "        temp.append(tt[j].text)\n",
    "    print(temp)\n",
    "    count += 1"
   ]
  },
  {
   "cell_type": "code",
   "execution_count": null,
   "id": "bdf7139e-0a76-494a-a149-0356e4f4fa46",
   "metadata": {},
   "outputs": [],
   "source": [
    "# click next page button\n",
    "time.sleep(3)\n",
    "driver.find_element('xpath', '//*[@id=\"stats-app-root\"]/section/section/div[3]/div[2]/div/div/div[2]/button').click()\n",
    "time.sleep(3)"
   ]
  },
  {
   "cell_type": "code",
   "execution_count": null,
   "id": "3a4f41bd-41e8-496f-b12a-d4baac04f4b6",
   "metadata": {},
   "outputs": [],
   "source": [
    "# click standard button\n",
    "time.sleep(3)\n",
    "driver.find_element('xpath', '//*[@id=\"stats-app-root\"]/section/section/div[1]/div[2]/div/div[1]/div/div[1]/button').click()\n",
    "driver.find_element('xpath', '//*[@id=\"stats-app-root\"]/section/section/div[1]/div[2]/div/div[1]/div/div[1]/button').click()\n",
    "time.sleep(3)"
   ]
  },
  {
   "cell_type": "code",
   "execution_count": null,
   "id": "0f86c537-c83e-4d20-9202-9ec46008197f",
   "metadata": {
    "scrolled": true
   },
   "outputs": [],
   "source": [
    "# get standard data\n",
    "count = 0\n",
    "temp = []\n",
    "sp = soup(driver.page_source, 'html.parser')\n",
    "tt = sp.select('#stats-app-root tr td')\n",
    "ti = sp.find_all(class_ = 'bui-text cellheader bui-text')\n",
    "for i in range(0, len(ti), 2):\n",
    "    temp.append(ti[i].text)\n",
    "print(temp[1:])\n",
    "for i in range(0, len(tt), 17):\n",
    "    temp = []\n",
    "    for j in range(i, i+17):\n",
    "        temp.append(tt[j].text)\n",
    "    print(temp)\n",
    "    count += 1"
   ]
  },
  {
   "cell_type": "code",
   "execution_count": null,
   "id": "198f9247-53ec-4a02-8cf5-e0dead6d66cc",
   "metadata": {},
   "outputs": [],
   "source": [
    "time.sleep(3)\n",
    "driver.find_element('xpath', '//*[@id=\"stats-app-root\"]/section/section/div[1]/div[2]/div/div[1]/div/div[2]/button').click()\n",
    "driver.find_element('xpath', '//*[@id=\"stats-app-root\"]/section/section/div[1]/div[2]/div/div[1]/div/div[2]/button').click()\n",
    "time.sleep(3)"
   ]
  },
  {
   "cell_type": "code",
   "execution_count": null,
   "id": "22b906e6-8bef-4142-ba5d-c3940e400161",
   "metadata": {
    "scrolled": true
   },
   "outputs": [],
   "source": [
    "count = 0\n",
    "temp = []\n",
    "sp = soup(driver.page_source, 'html.parser')\n",
    "tt = sp.select('#stats-app-root tr td')\n",
    "ti = sp.find_all(class_ = 'bui-text cellheader bui-text')\n",
    "for i in range(0, len(ti), 2):\n",
    "    temp.append(ti[i].text)\n",
    "print(temp[1:])\n",
    "for i in range(0, len(tt), 16):\n",
    "    temp = []\n",
    "    for j in range(i, i+16):\n",
    "        temp.append(tt[j].text)\n",
    "    print(temp)\n",
    "    count += 1"
   ]
  },
  {
   "cell_type": "markdown",
   "id": "a1c34e30-8529-43b0-bc37-30cf7ab52a16",
   "metadata": {},
   "source": [
    "---"
   ]
  },
  {
   "cell_type": "code",
   "execution_count": null,
   "id": "93732443-c8dd-498a-af82-e0cd0c479824",
   "metadata": {},
   "outputs": [],
   "source": [
    "driver.quit()"
   ]
  },
  {
   "cell_type": "code",
   "execution_count": null,
   "id": "c5f80366-1836-403d-a315-6c8a9e878875",
   "metadata": {},
   "outputs": [],
   "source": []
  }
 ],
 "metadata": {
  "kernelspec": {
   "display_name": "Python 3 (ipykernel)",
   "language": "python",
   "name": "python3"
  },
  "language_info": {
   "codemirror_mode": {
    "name": "ipython",
    "version": 3
   },
   "file_extension": ".py",
   "mimetype": "text/x-python",
   "name": "python",
   "nbconvert_exporter": "python",
   "pygments_lexer": "ipython3",
   "version": "3.10.11"
  }
 },
 "nbformat": 4,
 "nbformat_minor": 5
}
