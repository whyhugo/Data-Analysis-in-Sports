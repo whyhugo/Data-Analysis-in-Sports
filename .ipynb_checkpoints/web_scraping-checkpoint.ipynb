{
 "cells": [
  {
   "cell_type": "markdown",
   "id": "17ae72e3-679d-404d-981c-0ccc642898af",
   "metadata": {},
   "source": [
    "# MLB.com stats crawler\n",
    "https://github.com/whyhugo/Data-Analysis-in-Sports\n",
    "> You can choose **year** and **team**.<br>\n",
    "> \"Regular Season\", \"All Positions\", \"All Players\"... are default."
   ]
  },
  {
   "cell_type": "code",
   "execution_count": 6,
   "id": "171cbed5-64b8-4e02-a155-cd899e4f5583",
   "metadata": {},
   "outputs": [],
   "source": [
    "import requests as rq\n",
    "import pandas as pd\n",
    "from bs4 import BeautifulSoup as soup\n",
    "from selenium import webdriver\n",
    "from selenium.webdriver.chrome.options import Options\n",
    "from selenium.webdriver.common.by import By\n",
    "from lxml import etree\n",
    "import time"
   ]
  },
  {
   "cell_type": "code",
   "execution_count": 7,
   "id": "cc954ca9-2635-4f33-a69d-85a6acc60995",
   "metadata": {},
   "outputs": [
    {
     "name": "stdin",
     "output_type": "stream",
     "text": [
      "TEAM: toronto-blue-jays\n",
      "YEAR: 2020\n"
     ]
    }
   ],
   "source": [
    "team = input(\"TEAM:\")\n",
    "year = input(\"YEAR:\")"
   ]
  },
  {
   "cell_type": "markdown",
   "id": "4af17fae-360b-4879-8b17-75e8b11dfd17",
   "metadata": {},
   "source": [
    "los-angeles-angels<br>\n",
    "2019"
   ]
  },
  {
   "cell_type": "code",
   "execution_count": 8,
   "id": "d22f2832-91b3-4be1-a3bc-23f214c68c38",
   "metadata": {},
   "outputs": [
    {
     "name": "stderr",
     "output_type": "stream",
     "text": [
      "C:\\Users\\user\\AppData\\Local\\Temp\\ipykernel_26836\\4273438729.py:7: DeprecationWarning: executable_path has been deprecated, please pass in a Service object\n",
      "  driver = webdriver.Chrome('/programing/swiftx/chromedriver-win64/chromedriver.exe')\n"
     ]
    }
   ],
   "source": [
    "'''\n",
    "chrome_options = Options()\n",
    "chrome_options.add_argument('--headless')\n",
    ", options=chrome_options\n",
    "'''\n",
    "\n",
    "driver = webdriver.Chrome('/programing/swiftx/chromedriver-win64/chromedriver.exe')\n",
    "url = f'https://www.mlb.com/stats/{team}/{year}?playerPool=ALL'\n",
    "html = driver.get(url)\n",
    "sp = soup(driver.page_source, 'html.parser')"
   ]
  },
  {
   "cell_type": "markdown",
   "id": "4a909c63-2cce-4447-a286-abac4cc1d7c2",
   "metadata": {},
   "source": [
    "get player index\n",
    "```python\n",
    "index_list = []\n",
    "index = sp.find_all(class_ = 'index-3cdMSKi7')\n",
    "for i in range(0, len(index), 2):\n",
    "    index_list.append(index[i].text)\n",
    "```"
   ]
  },
  {
   "cell_type": "code",
   "execution_count": 9,
   "id": "8fe3a32b-ca2d-4a2a-bfed-502722c905d0",
   "metadata": {},
   "outputs": [],
   "source": [
    "# get player name\n",
    "def get_player_name():\n",
    "    player_list = []\n",
    "    player = sp.find_all(class_ = 'full-3fV3c9pF')\n",
    "    for i in range(0, len(player), 2):\n",
    "        player_list.append(player[i].text + ' ' + player[i+1].text)\n",
    "    return player_list"
   ]
  },
  {
   "cell_type": "code",
   "execution_count": 10,
   "id": "134cf2f0-79f7-4b6b-8c7a-15091909560a",
   "metadata": {},
   "outputs": [],
   "source": [
    "# get player's position\n",
    "def get_player_position():\n",
    "    position_list = []\n",
    "    position = sp.find_all(class_ = 'position-28TbwVOg')\n",
    "    for i in position:\n",
    "        position_list.append(i.text)\n",
    "    return position_list"
   ]
  },
  {
   "cell_type": "code",
   "execution_count": 28,
   "id": "740ae55e-fbaf-42a1-9605-e403716df217",
   "metadata": {},
   "outputs": [],
   "source": [
    "def get_column_name():\n",
    "    click_standard_button()\n",
    "    sp = soup(driver.page_source, 'html.parser')\n",
    "    \n",
    "    data_column_name = ['PLAYER', 'POSITION', 'TEAM']\n",
    "    temp = sp.find_all(class_ = 'bui-text cellheader bui-text')\n",
    "    for i in range(4, len(temp), 2):\n",
    "        data_column_name.append(temp[i].text)\n",
    "    temp = sp.find_all(class_ = 'bui-text cellheader selected-1vxxHvFg bui-text')\n",
    "    for i in range(0, len(temp), 2):\n",
    "        data_column_name.append(temp[i].text)\n",
    "\n",
    "    click_expanded_button()\n",
    "    sp = soup(driver.page_source, 'html.parser')\n",
    "    temp = sp.find_all(class_ = 'bui-text cellheader bui-text')\n",
    "    for i in range(4, len(temp), 2):\n",
    "        data_column_name.append(temp[i].text)\n",
    "        \n",
    "    return data_column_name"
   ]
  },
  {
   "cell_type": "code",
   "execution_count": 12,
   "id": "a6776745-2449-44d0-8518-780fb4645a53",
   "metadata": {},
   "outputs": [],
   "source": [
    "# click standard button\n",
    "def click_standard_button():\n",
    "    time.sleep(3)\n",
    "    driver.find_element('xpath', '//*[@id=\"stats-app-root\"]/section/section/div[1]/div[2]/div/div[1]/div/div[1]/button').click()\n",
    "    driver.find_element('xpath', '//*[@id=\"stats-app-root\"]/section/section/div[1]/div[2]/div/div[1]/div/div[1]/button').click()\n",
    "    time.sleep(3)\n",
    "    sp = soup(driver.page_source, 'html.parser')"
   ]
  },
  {
   "cell_type": "code",
   "execution_count": 13,
   "id": "0f7592e5-181e-478e-9497-acc7f73aa71e",
   "metadata": {},
   "outputs": [],
   "source": [
    "# click expanded button\n",
    "def click_expanded_button():\n",
    "    time.sleep(3)\n",
    "    driver.find_element('xpath', '//*[@id=\"stats-app-root\"]/section/section/div[1]/div[2]/div/div[1]/div/div[2]/button').click()\n",
    "    driver.find_element('xpath', '//*[@id=\"stats-app-root\"]/section/section/div[1]/div[2]/div/div[1]/div/div[2]/button').click()\n",
    "    time.sleep(3)\n",
    "    "
   ]
  },
  {
   "cell_type": "code",
   "execution_count": 14,
   "id": "bdf7139e-0a76-494a-a149-0356e4f4fa46",
   "metadata": {},
   "outputs": [],
   "source": [
    "# click next page button\n",
    "def click_next_page_button():\n",
    "    time.sleep(3)\n",
    "    driver.find_element('xpath', '//*[@id=\"stats-app-root\"]/section/section/div[3]/div[2]/div/div/div[2]/button').click()\n",
    "    time.sleep(3)\n",
    "    sp = soup(driver.page_source, 'html.parser')"
   ]
  },
  {
   "cell_type": "code",
   "execution_count": 15,
   "id": "3c81e738-20a0-4c63-ae6f-20156bc06c41",
   "metadata": {
    "scrolled": true
   },
   "outputs": [],
   "source": [
    "# get standard data\n",
    "def get_data():\n",
    "    standard_data = []\n",
    "    sp = soup(driver.page_source, 'html.parser')\n",
    "    tt = sp.select('#stats-app-root tr td')\n",
    "    for i in tt:\n",
    "        standard_data.append(i.text)\n",
    "    return standard_data"
   ]
  },
  {
   "cell_type": "code",
   "execution_count": null,
   "id": "571daf39-2c79-4472-89be-8bbcf76d954b",
   "metadata": {},
   "outputs": [],
   "source": [
    "html = driver.get(url) \n",
    "# 有時候會 get 不完整，所以這邊再 reload 一次 XD"
   ]
  },
  {
   "cell_type": "code",
   "execution_count": null,
   "id": "5abc06f7-feeb-41a2-97a3-e932f47973e9",
   "metadata": {},
   "outputs": [],
   "source": [
    "try:\n",
    "    click_next_page_button()\n",
    "except:\n",
    "    print('This is the last page :)')"
   ]
  },
  {
   "cell_type": "code",
   "execution_count": null,
   "id": "da5f8efb-a660-4e78-8e4f-9b6a62e28e8c",
   "metadata": {},
   "outputs": [],
   "source": [
    "column_name = get_column_name()\n",
    "df_list = []"
   ]
  },
  {
   "cell_type": "code",
   "execution_count": null,
   "id": "c1071b08-ea41-44c4-aaf0-24e9d520450d",
   "metadata": {},
   "outputs": [],
   "source": [
    "try:\n",
    "    click_standard_button()\n",
    "    sp = soup(driver.page_source, 'html.parser')\n",
    "    current_column = get_column_name()\n",
    "    column_name.extend(current_column[2:])\n",
    "    click_expanded_button()\n",
    "    sp = soup(driver.page_source, 'html.parser')\n",
    "    current_column = get_column_name()\n",
    "    column_name.extend(current_column[2:])\n",
    "except:\n",
    "    print(column_name)"
   ]
  },
  {
   "cell_type": "code",
   "execution_count": null,
   "id": "04163465-d086-4a5f-891c-661d9301cc59",
   "metadata": {},
   "outputs": [],
   "source": [
    "column_name"
   ]
  },
  {
   "cell_type": "code",
   "execution_count": null,
   "id": "b1e749ea-e861-4552-ad19-265b80602586",
   "metadata": {},
   "outputs": [],
   "source": [
    "current_column = get_column_name()\n",
    "column_name.extend(current_column[1:])\n",
    "\n",
    "name = get_player_name()\n",
    "position = get_player_position()\n",
    "current_data = get_data()\n",
    "\n",
    "\n",
    "row = []\n",
    "for i in range(len(name)):\n",
    "    row.append(name[i])\n",
    "    row.append(position[i])\n",
    "    row.extend(current_data[i*17:i*17+17])\n",
    "    df_list.append(row)\n",
    "    row = []"
   ]
  },
  {
   "cell_type": "code",
   "execution_count": null,
   "id": "b47b2966-5507-4725-9337-8caff8782a6b",
   "metadata": {},
   "outputs": [],
   "source": [
    "df_a = pd.DataFrame(df_list,columns=column_name)\n",
    "df_a"
   ]
  },
  {
   "cell_type": "code",
   "execution_count": null,
   "id": "93732443-c8dd-498a-af82-e0cd0c479824",
   "metadata": {},
   "outputs": [],
   "source": [
    "driver.quit()"
   ]
  },
  {
   "cell_type": "markdown",
   "id": "a1c34e30-8529-43b0-bc37-30cf7ab52a16",
   "metadata": {},
   "source": [
    "---"
   ]
  },
  {
   "cell_type": "code",
   "execution_count": null,
   "id": "a64b7f58-81e7-46ce-a35b-d322ba6ca088",
   "metadata": {
    "scrolled": true
   },
   "outputs": [],
   "source": [
    "# get standard data\n",
    "def get_standard_data():\n",
    "count = 0\n",
    "sp = soup(driver.page_source, 'html.parser')\n",
    "tt = sp.select('#stats-app-root tr td')\n",
    "\n",
    "for i in range(0, len(tt), 17):\n",
    "    temp = []\n",
    "    for j in range(i, i+17):\n",
    "        temp.append(tt[j].text)\n",
    "    print(temp)\n",
    "    count += 1"
   ]
  },
  {
   "cell_type": "code",
   "execution_count": null,
   "id": "c5f80366-1836-403d-a315-6c8a9e878875",
   "metadata": {},
   "outputs": [],
   "source": []
  }
 ],
 "metadata": {
  "kernelspec": {
   "display_name": "Python 3 (ipykernel)",
   "language": "python",
   "name": "python3"
  },
  "language_info": {
   "codemirror_mode": {
    "name": "ipython",
    "version": 3
   },
   "file_extension": ".py",
   "mimetype": "text/x-python",
   "name": "python",
   "nbconvert_exporter": "python",
   "pygments_lexer": "ipython3",
   "version": "3.10.11"
  }
 },
 "nbformat": 4,
 "nbformat_minor": 5
}
