{
 "cells": [
  {
   "cell_type": "code",
   "execution_count": null,
   "id": "cd5101c3-465c-4559-935c-e5712b404db6",
   "metadata": {
    "jupyter": {
     "source_hidden": true
    }
   },
   "outputs": [],
   "source": [
    "df = pd.DataFrame([[0,0,0,0,0,0]], columns=['nid','title','department','staff','time','text'])\n",
    "df = df.drop(0)\n",
    "\n",
    "for i in range(10000, 10200):\n",
    "    ID = str(i)\n",
    "    url = 'https://www.ahs.nccu.edu.tw/ischool/public/news_view/show.php?nid=' + ID\n",
    "    html = rq.get(url)\n",
    "    sp = soup(html.text, 'html.parser')\n",
    "    \n",
    "    title = sp.select('#title h4')\n",
    "    text = sp.select('#content p span')\n",
    "    info = sp.select('#info table tbody tr td span')\n",
    "    \n",
    "    title_temp = ''\n",
    "    for t in title:\n",
    "        title_temp += t.text\n",
    "\n",
    "    department_temp = ''\n",
    "    staff_temp = ''\n",
    "    time_temp = ''\n",
    "    count = -1\n",
    "\n",
    "    for t in info:\n",
    "        count += 1\n",
    "        if count == (0 or 2 or 4):\n",
    "            continue\n",
    "        elif count == 1:\n",
    "            department_temp = t.text\n",
    "        elif count == 3:\n",
    "            staff_temp = t.text\n",
    "        elif count == 5:\n",
    "            time_temp = t.text\n",
    "        else:\n",
    "            continue\n",
    "    \n",
    "    text_temp = ''\n",
    "    for t in text:\n",
    "        text_temp += t.text\n",
    "        \n",
    "    df = df.append(pd.DataFrame([[ID,title_temp,department_temp,staff_temp,time_temp,text_temp]],columns=['nid','title','department','staff','tim"
   ]
  },
  {
   "cell_type": "code",
   "execution_count": null,
   "id": "171cbed5-64b8-4e02-a155-cd899e4f5583",
   "metadata": {},
   "outputs": [],
   "source": [
    "import requests as rq\n",
    "import pandas as pd\n",
    "from bs4 import BeautifulSoup as soup\n",
    "from selenium import webdriver\n",
    "from selenium.webdriver.common.by import By"
   ]
  },
  {
   "cell_type": "code",
   "execution_count": null,
   "id": "d22f2832-91b3-4be1-a3bc-23f214c68c38",
   "metadata": {},
   "outputs": [],
   "source": [
    "driver = webdriver.Chrome('/programing/swiftx/chromedriver-win64/chromedriver.exe')\n",
    "url = 'https://www.mlb.com/stats/los-angeles-angels/2019?playerPool=ALL'\n",
    "html = driver.get('https://www.mlb.com/stats/los-angeles-angels/2019?playerPool=ALL')\n",
    "sp = soup(driver.page_source, 'html.parser')"
   ]
  },
  {
   "cell_type": "code",
   "execution_count": null,
   "id": "eee0b259-c516-41f9-af1f-1add0e2a9328",
   "metadata": {},
   "outputs": [],
   "source": [
    "index_list = []\n",
    "index = sp.find_all(class_ = 'index-3cdMSKi7')\n",
    "for i in range(0, len(index), 2):\n",
    "    index_list.append(index[i].text)"
   ]
  },
  {
   "cell_type": "code",
   "execution_count": null,
   "id": "8fe3a32b-ca2d-4a2a-bfed-502722c905d0",
   "metadata": {},
   "outputs": [],
   "source": [
    "player_list = []\n",
    "player = sp.find_all(class_ = 'full-3fV3c9pF')\n",
    "for i in range(0, len(player), 2):\n",
    "    player_list.append(player[i].text + ' ' + player[i+1].text)"
   ]
  },
  {
   "cell_type": "code",
   "execution_count": null,
   "id": "134cf2f0-79f7-4b6b-8c7a-15091909560a",
   "metadata": {},
   "outputs": [],
   "source": [
    "position_list = []\n",
    "position = sp.find_all(class_ = 'position-28TbwVOg')\n",
    "for i in position:\n",
    "    position_list.append(i.text)"
   ]
  },
  {
   "cell_type": "code",
   "execution_count": null,
   "id": "3c81e738-20a0-4c63-ae6f-20156bc06c41",
   "metadata": {
    "scrolled": true
   },
   "outputs": [],
   "source": [
    "count = 0\n",
    "tt = sp.select('#stats-app-root tr td')\n",
    "for i in range(0, len(tt), 17):\n",
    "    for j in range(i, i+17):\n",
    "        print(tt[j].text)\n",
    "    print('')\n",
    "    count += 1"
   ]
  },
  {
   "cell_type": "markdown",
   "id": "a1c34e30-8529-43b0-bc37-30cf7ab52a16",
   "metadata": {},
   "source": [
    "---"
   ]
  },
  {
   "cell_type": "code",
   "execution_count": null,
   "id": "0f7592e5-181e-478e-9497-acc7f73aa71e",
   "metadata": {},
   "outputs": [],
   "source": [
    "driver.find_element('xpath', '//*[@id=\"stats-app-root\"]/section/section/div[1]/div[2]/div/div[1]/div/div[2]/button').click()\n",
    "driver.find_element('xpath', '//*[@id=\"stats-app-root\"]/section/section/div[1]/div[2]/div/div[1]/div/div[2]/button').click()"
   ]
  },
  {
   "cell_type": "code",
   "execution_count": null,
   "id": "3377802c-85ac-45a7-8ccc-613677c59a99",
   "metadata": {
    "scrolled": true
   },
   "outputs": [],
   "source": [
    "tt = driver.find_elements(By.XPATH, '//*[@id=\"stats-app-root\"]/section/section/div[3]/div[1]/div/table/tbody/tr/td')\n",
    "tt[3]"
   ]
  },
  {
   "cell_type": "code",
   "execution_count": null,
   "id": "93732443-c8dd-498a-af82-e0cd0c479824",
   "metadata": {},
   "outputs": [],
   "source": [
    "driver.quit()\n"
   ]
  },
  {
   "cell_type": "code",
   "execution_count": null,
   "id": "c5f80366-1836-403d-a315-6c8a9e878875",
   "metadata": {},
   "outputs": [],
   "source": []
  }
 ],
 "metadata": {
  "kernelspec": {
   "display_name": "Python 3 (ipykernel)",
   "language": "python",
   "name": "python3"
  },
  "language_info": {
   "codemirror_mode": {
    "name": "ipython",
    "version": 3
   },
   "file_extension": ".py",
   "mimetype": "text/x-python",
   "name": "python",
   "nbconvert_exporter": "python",
   "pygments_lexer": "ipython3",
   "version": "3.10.11"
  }
 },
 "nbformat": 4,
 "nbformat_minor": 5
}
