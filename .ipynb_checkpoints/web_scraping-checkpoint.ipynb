{
 "cells": [
  {
   "cell_type": "markdown",
   "id": "17ae72e3-679d-404d-981c-0ccc642898af",
   "metadata": {},
   "source": [
    "# MLB.com stats crawler\n",
    "https://github.com/whyhugo/Data-Analysis-in-Sports\n",
    "> You can choose year and team.<br>\n",
    "> \"Regular Season\", \"All Positions\", \"All Players\"... are default."
   ]
  },
  {
   "cell_type": "code",
   "execution_count": null,
   "id": "171cbed5-64b8-4e02-a155-cd899e4f5583",
   "metadata": {},
   "outputs": [],
   "source": [
    "import requests as rq\n",
    "import pandas as pd\n",
    "from bs4 import BeautifulSoup as soup\n",
    "from selenium import webdriver\n",
    "from selenium.webdriver.chrome.options import Options\n",
    "from selenium.webdriver.common.by import By\n",
    "from lxml import etree\n",
    "import time"
   ]
  },
  {
   "cell_type": "code",
   "execution_count": null,
   "id": "705a7242-6696-47c3-bfff-83cf4b206f41",
   "metadata": {},
   "outputs": [],
   "source": [
    "column_name = ['PLAYER', 'POSITION']\n",
    "df_list = []"
   ]
  },
  {
   "cell_type": "code",
   "execution_count": null,
   "id": "cc954ca9-2635-4f33-a69d-85a6acc60995",
   "metadata": {},
   "outputs": [],
   "source": [
    "team = input(\"TEAM:\")\n",
    "year = input(\"YEAR:\")"
   ]
  },
  {
   "cell_type": "markdown",
   "id": "4af17fae-360b-4879-8b17-75e8b11dfd17",
   "metadata": {},
   "source": [
    "los-angeles-angels<br>\n",
    "2019"
   ]
  },
  {
   "cell_type": "code",
   "execution_count": null,
   "id": "d22f2832-91b3-4be1-a3bc-23f214c68c38",
   "metadata": {},
   "outputs": [],
   "source": [
    "'''\n",
    "chrome_options = Options()\n",
    "chrome_options.add_argument('--headless')\n",
    ", options=chrome_options\n",
    "'''\n",
    "\n",
    "driver = webdriver.Chrome('/programing/swiftx/chromedriver-win64/chromedriver.exe')\n",
    "url = f'https://www.mlb.com/stats/{team}/{year}?playerPool=ALL'\n",
    "html = driver.get('https://www.mlb.com/stats/los-angeles-angels/2019?playerPool=ALL')\n",
    "sp = soup(driver.page_source, 'html.parser')"
   ]
  },
  {
   "cell_type": "markdown",
   "id": "4a909c63-2cce-4447-a286-abac4cc1d7c2",
   "metadata": {},
   "source": [
    "get player index\n",
    "```python\n",
    "index_list = []\n",
    "index = sp.find_all(class_ = 'index-3cdMSKi7')\n",
    "for i in range(0, len(index), 2):\n",
    "    index_list.append(index[i].text)\n",
    "```"
   ]
  },
  {
   "cell_type": "code",
   "execution_count": null,
   "id": "8fe3a32b-ca2d-4a2a-bfed-502722c905d0",
   "metadata": {},
   "outputs": [],
   "source": [
    "# get player name\n",
    "def get_player_name(player_list):\n",
    "    player_list = []\n",
    "    player = sp.find_all(class_ = 'full-3fV3c9pF')\n",
    "    for i in range(0, len(player), 2):\n",
    "        player_list.append(player[i].text + ' ' + player[i+1].text)\n",
    "    return player_list"
   ]
  },
  {
   "cell_type": "code",
   "execution_count": null,
   "id": "134cf2f0-79f7-4b6b-8c7a-15091909560a",
   "metadata": {},
   "outputs": [],
   "source": [
    "# get player's position\n",
    "def get_player_position(position_list):\n",
    "    position_list = []\n",
    "    position = sp.find_all(class_ = 'position-28TbwVOg')\n",
    "    for i in position:\n",
    "        position_list.append(i.text)\n",
    "    return position_list"
   ]
  },
  {
   "cell_type": "code",
   "execution_count": null,
   "id": "740ae55e-fbaf-42a1-9605-e403716df217",
   "metadata": {},
   "outputs": [],
   "source": [
    "def get_column_name():\n",
    "    data_column_name = []\n",
    "    temp = sp.find_all(class_ = 'bui-text cellheader bui-text')\n",
    "    for i in range(0, len(temp), 2):\n",
    "        data_column_name.append(temp[i].text)\n",
    "    return data_column_name"
   ]
  },
  {
   "cell_type": "code",
   "execution_count": null,
   "id": "a6776745-2449-44d0-8518-780fb4645a53",
   "metadata": {},
   "outputs": [],
   "source": [
    "# click standard button\n",
    "def click_standard_button():\n",
    "    time.sleep(3)\n",
    "    driver.find_element('xpath', '//*[@id=\"stats-app-root\"]/section/section/div[1]/div[2]/div/div[1]/div/div[1]/button').click()\n",
    "    driver.find_element('xpath', '//*[@id=\"stats-app-root\"]/section/section/div[1]/div[2]/div/div[1]/div/div[1]/button').click()\n",
    "    time.sleep(3)\n",
    "    sp = soup(driver.page_source, 'html.parser')"
   ]
  },
  {
   "cell_type": "code",
   "execution_count": null,
   "id": "0f7592e5-181e-478e-9497-acc7f73aa71e",
   "metadata": {},
   "outputs": [],
   "source": [
    "# click expanded button\n",
    "def click_expanded_button():\n",
    "    time.sleep(3)\n",
    "    driver.find_element('xpath', '//*[@id=\"stats-app-root\"]/section/section/div[1]/div[2]/div/div[1]/div/div[2]/button').click()\n",
    "    driver.find_element('xpath', '//*[@id=\"stats-app-root\"]/section/section/div[1]/div[2]/div/div[1]/div/div[2]/button').click()\n",
    "    time.sleep(3)\n",
    "    sp = soup(driver.page_source, 'html.parser')"
   ]
  },
  {
   "cell_type": "code",
   "execution_count": null,
   "id": "bdf7139e-0a76-494a-a149-0356e4f4fa46",
   "metadata": {},
   "outputs": [],
   "source": [
    "# click next page button\n",
    "def click_next_page_button():\n",
    "    time.sleep(3)\n",
    "    driver.find_element('xpath', '//*[@id=\"stats-app-root\"]/section/section/div[3]/div[2]/div/div/div[2]/button').click()\n",
    "    time.sleep(3)\n",
    "    sp = soup(driver.page_source, 'html.parser')"
   ]
  },
  {
   "cell_type": "code",
   "execution_count": null,
   "id": "571daf39-2c79-4472-89be-8bbcf76d954b",
   "metadata": {},
   "outputs": [],
   "source": [
    "html = driver.get('https://www.mlb.com/stats/los-angeles-angels/2019?playerPool=ALL')"
   ]
  },
  {
   "cell_type": "code",
   "execution_count": null,
   "id": "3c81e738-20a0-4c63-ae6f-20156bc06c41",
   "metadata": {
    "scrolled": true
   },
   "outputs": [],
   "source": [
    "# get standard data\n",
    "def get_standard_data():\n",
    "count = 0\n",
    "sp = soup(driver.page_source, 'html.parser')\n",
    "tt = sp.select('#stats-app-root tr td')\n",
    "\n",
    "for i in range(0, len(tt), 17):\n",
    "    temp = []\n",
    "    for j in range(i, i+17):\n",
    "        temp.append(tt[j].text)\n",
    "    print(temp)\n",
    "    count += 1"
   ]
  },
  {
   "cell_type": "code",
   "execution_count": null,
   "id": "0b1ad1af-5c53-4fa2-90b3-e81b8555fd8c",
   "metadata": {
    "scrolled": true
   },
   "outputs": [],
   "source": [
    "# get expanded data\n",
    "count = 0\n",
    "temp = []\n",
    "sp = soup(driver.page_source, 'html.parser')\n",
    "tt = sp.select('#stats-app-root tr td')\n",
    "ti = sp.find_all(class_ = 'bui-text cellheader bui-text')\n",
    "for i in range(0, len(ti), 2):\n",
    "    temp.append(ti[i].text)\n",
    "print(temp[1:])\n",
    "for i in range(0, len(tt), 16):\n",
    "    temp = []\n",
    "    for j in range(i, i+16):\n",
    "        temp.append(tt[j].text)\n",
    "    print(temp)\n",
    "    count += 1"
   ]
  },
  {
   "cell_type": "markdown",
   "id": "a1c34e30-8529-43b0-bc37-30cf7ab52a16",
   "metadata": {},
   "source": [
    "---"
   ]
  },
  {
   "cell_type": "code",
   "execution_count": null,
   "id": "93732443-c8dd-498a-af82-e0cd0c479824",
   "metadata": {},
   "outputs": [],
   "source": [
    "driver.quit()"
   ]
  },
  {
   "cell_type": "code",
   "execution_count": null,
   "id": "c5f80366-1836-403d-a315-6c8a9e878875",
   "metadata": {},
   "outputs": [],
   "source": []
  }
 ],
 "metadata": {
  "kernelspec": {
   "display_name": "Python 3 (ipykernel)",
   "language": "python",
   "name": "python3"
  },
  "language_info": {
   "codemirror_mode": {
    "name": "ipython",
    "version": 3
   },
   "file_extension": ".py",
   "mimetype": "text/x-python",
   "name": "python",
   "nbconvert_exporter": "python",
   "pygments_lexer": "ipython3",
   "version": "3.10.11"
  }
 },
 "nbformat": 4,
 "nbformat_minor": 5
}
